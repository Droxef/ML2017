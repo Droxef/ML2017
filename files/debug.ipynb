{
 "cells": [
  {
   "cell_type": "code",
   "execution_count": 1,
   "metadata": {},
   "outputs": [],
   "source": [
    "# Useful starting lines\n",
    "%matplotlib inline\n",
    "import numpy as np\n",
    "import matplotlib.pyplot as plt\n",
    "%load_ext autoreload\n",
    "%autoreload 2"
   ]
  },
  {
   "cell_type": "code",
   "execution_count": 2,
   "metadata": {},
   "outputs": [],
   "source": [
    "from proj1_helpers import *\n",
    "testY,train=load_csv_data(\"../../dataset/test.csv\", sub_sample=False)\n",
    "train=load_csv_data(\"../../dataset/train.csv\", sub_sample=False)"
   ]
  },
  {
   "cell_type": "code",
   "execution_count": null,
   "metadata": {},
   "outputs": [],
   "source": [
    "# data clean plus normalization"
   ]
  },
  {
   "cell_type": "code",
   "execution_count": 26,
   "metadata": {},
   "outputs": [],
   "source": [
    "initial_w=np.zeros((30,))\n",
    "initial_w0=np.zeros((31,))\n",
    "max_iters=500\n",
    "#gamma=3e-7\n",
    "#lambda_=10\n",
    "#degree=4"
   ]
  },
  {
   "cell_type": "code",
   "execution_count": 58,
   "metadata": {},
   "outputs": [
    {
     "data": {
      "text/plain": [
       "(250000, 30)"
      ]
     },
     "execution_count": 58,
     "metadata": {},
     "output_type": "execute_result"
    }
   ],
   "source": [
    "train[1].shape"
   ]
  },
  {
   "cell_type": "code",
   "execution_count": 49,
   "metadata": {},
   "outputs": [
    {
     "data": {
      "text/plain": [
       "164333"
      ]
     },
     "execution_count": 49,
     "metadata": {},
     "output_type": "execute_result"
    }
   ],
   "source": [
    "np.where(train[0]==-1)[0].shape[0]"
   ]
  },
  {
   "cell_type": "code",
   "execution_count": 121,
   "metadata": {},
   "outputs": [
    {
     "data": {
      "text/plain": [
       "<matplotlib.collections.PathCollection at 0x1ad9cb29ef0>"
      ]
     },
     "execution_count": 121,
     "metadata": {},
     "output_type": "execute_result"
    },
    {
     "data": {
      "image/png": "[encoded data removed]",
      "text/plain": [
       "<matplotlib.figure.Figure at 0x1ad9caa50f0>"
      ]
     },
     "metadata": {},
     "output_type": "display_data"
    }
   ],
   "source": [
    "# 4,6,7,11,12,14,15,18,20,23,24,25,27,28 is useless?\n",
    "plt.scatter(train[1][:,13],train[0][:])"
   ]
  },
  {
   "cell_type": "code",
   "execution_count": 137,
   "metadata": {},
   "outputs": [],
   "source": [
    "smallTrain=np.concatenate([train[1][:,:4],train[1][:,5:6],train[1][:,8:11],train[1][:,13:14],train[1][:,16:18],train[1][:,21:23]],axis=1)"
   ]
  },
  {
   "cell_type": "markdown",
   "metadata": {},
   "source": [
    "Need to make a train-test split of train data to cross-validate, with a symmetric number of y"
   ]
  },
  {
   "cell_type": "code",
   "execution_count": 149,
   "metadata": {},
   "outputs": [],
   "source": [
    "np.random.seed(2)\n",
    "from split_data import *\n",
    "tr_trainX,tr_trainY,tr_testX,tr_testY=split_data(smallTrain,train[0],0.6)"
   ]
  },
  {
   "cell_type": "code",
   "execution_count": 5,
   "metadata": {},
   "outputs": [],
   "source": [
    "def build_poly(tx,degree):\n",
    "    poly = np.ones((len(tx), 1))\n",
    "    for deg in range(1, degree+1):\n",
    "        poly = np.c_[poly, np.power(tx, deg)]\n",
    "    return poly"
   ]
  },
  {
   "cell_type": "code",
   "execution_count": 138,
   "metadata": {},
   "outputs": [],
   "source": [
    "degree=4\n",
    "tx=build_poly(smallTrain,degree)"
   ]
  },
  {
   "cell_type": "code",
   "execution_count": 29,
   "metadata": {},
   "outputs": [],
   "source": [
    "from costs import *\n",
    "def compute_gradient(y, tx, w):\n",
    "    \"\"\"Compute the gradient.\"\"\"\n",
    "    e=y-np.dot(tx,w)\n",
    "    grad=-tx.T.dot(e)/y.shape[0]\n",
    "    return grad\n",
    "\n",
    "def least_squares_GD(y,tx,initial_w,max_iters,gamma):\n",
    "    w = initial_w\n",
    "    for n_iter in range(max_iters):\n",
    "        grad=compute_gradient(y,tx,w)\n",
    "        old_loss=compute_mse(y,tx,w)\n",
    "        w=w-gamma*grad\n",
    "        loss=compute_mse(y,tx,w)\n",
    "        if (old_loss-loss)/old_loss<5e-5:\n",
    "            break\n",
    "    return w, loss"
   ]
  },
  {
   "cell_type": "code",
   "execution_count": 7,
   "metadata": {},
   "outputs": [],
   "source": [
    "from helpers import batch_iter\n",
    "def least_squares_SGD(y,tx,initial_w,max_iters,gamma):\n",
    "    w = initial_w\n",
    "    batch_size=50\n",
    "    for n_iter in range(max_iters):\n",
    "        for yBatch,txBatch in batch_iter(y, tx, batch_size):\n",
    "            grad=compute_gradient(yBatch,txBatch,w)\n",
    "            w=w-gamma*grad\n",
    "            loss=compute_mse(y,tx,w)\n",
    "    return w, loss"
   ]
  },
  {
   "cell_type": "code",
   "execution_count": 8,
   "metadata": {},
   "outputs": [],
   "source": [
    "from costs import *\n",
    "def least_squares(y,tx):\n",
    "    if len(y)!=tx.shape[0]:\n",
    "        raise ValueError(\"y and tx must have the same length\")\n",
    "    w = np.linalg.solve(np.dot(tx.transpose(), tx), np.dot(tx.transpose(), y))\n",
    "    loss=compute_mse(y,tx,w)\n",
    "    return w, loss"
   ]
  },
  {
   "cell_type": "code",
   "execution_count": 9,
   "metadata": {},
   "outputs": [],
   "source": [
    "from costs import *\n",
    "def ridge_regression(y,tx,lambda_):\n",
    "    w=np.linalg.solve(tx.T.dot(tx)+2*tx.shape[0]*lambda_*np.eye(tx.shape[1]),tx.T.dot(y))\n",
    "    loss=compute_mse(y,tx,w)\n",
    "    return w, loss"
   ]
  },
  {
   "cell_type": "code",
   "execution_count": null,
   "metadata": {},
   "outputs": [],
   "source": [
    "def logistic_regression(y,tx,initial_w,max_iters,gamma):\n",
    "    return w, loss"
   ]
  },
  {
   "cell_type": "code",
   "execution_count": null,
   "metadata": {},
   "outputs": [],
   "source": [
    "def reg_logistic_regression(y,tx,lambda_,initial_w,max_iters,gamma):\n",
    "    return w, loss"
   ]
  },
  {
   "cell_type": "code",
   "execution_count": 11,
   "metadata": {},
   "outputs": [
    {
     "data": {
      "text/plain": [
       "[<matplotlib.lines.Line2D at 0x1ada4754630>]"
      ]
     },
     "execution_count": 11,
     "metadata": {},
     "output_type": "execute_result"
    },
    {
     "data": {
      "image/png": "[encoded data removed]",
      "text/plain": [
       "<matplotlib.figure.Figure at 0x1ada7012438>"
      ]
     },
     "metadata": {},
     "output_type": "display_data"
    }
   ],
   "source": [
    "gammas=np.logspace(-10,-6,50)\n",
    "losses=[]\n",
    "for gamma in gammas:\n",
    "    w,loss=least_squares_GD(train[0],train[1],initial_w,max_iters,gamma)\n",
    "    losses.append(loss)\n",
    "plt.semilogx(gammas,losses)"
   ]
  },
  {
   "cell_type": "code",
   "execution_count": 17,
   "metadata": {},
   "outputs": [
    {
     "name": "stdout",
     "output_type": "stream",
     "text": [
      "3.23745754282e-07\n"
     ]
    }
   ],
   "source": [
    "gamma=gammas[np.argmin(losses)]\n",
    "print(gamma)"
   ]
  },
  {
   "cell_type": "code",
   "execution_count": 30,
   "metadata": {},
   "outputs": [
    {
     "name": "stdout",
     "output_type": "stream",
     "text": [
      "0.394599787444\n"
     ]
    }
   ],
   "source": [
    "w,loss=least_squares_GD(train[0],train[1],initial_w,max_iters,gamma)\n",
    "print(loss)"
   ]
  },
  {
   "cell_type": "code",
   "execution_count": 139,
   "metadata": {},
   "outputs": [
    {
     "name": "stdout",
     "output_type": "stream",
     "text": [
      "0.318862396553\n"
     ]
    }
   ],
   "source": [
    "w,loss=least_squares(train[0],tx)\n",
    "print(loss)"
   ]
  },
  {
   "cell_type": "code",
   "execution_count": 150,
   "metadata": {},
   "outputs": [
    {
     "data": {
      "text/plain": [
       "[<matplotlib.lines.Line2D at 0x1ad867cca58>]"
      ]
     },
     "execution_count": 150,
     "metadata": {},
     "output_type": "execute_result"
    },
    {
     "data": {
      "image/png": "[encoded data removed]",
      "text/plain": [
       "<matplotlib.figure.Figure at 0x1ad8819ea58>"
      ]
     },
     "metadata": {},
     "output_type": "display_data"
    }
   ],
   "source": [
    "# higher degree give worst results\n",
    "degrees=range(1,7)\n",
    "losses=[]\n",
    "losses_te=[]\n",
    "for degree in degrees:\n",
    "    tx=build_poly(tr_trainX,degree)\n",
    "    tx_trtest=build_poly(tr_testX,degree)\n",
    "    w,loss=least_squares(tr_trainY,tx)\n",
    "    losses.append(loss)\n",
    "    losses_te.append(compute_mse(tr_testY,tx_trtest,w))\n",
    "plt.semilogy(degrees,losses)\n",
    "plt.semilogy(degrees,losses_te)"
   ]
  },
  {
   "cell_type": "code",
   "execution_count": 164,
   "metadata": {},
   "outputs": [
    {
     "data": {
      "image/png": "[encoded data removed]",
      "text/plain": [
       "<matplotlib.figure.Figure at 0x1ad879ba400>"
      ]
     },
     "metadata": {},
     "output_type": "display_data"
    }
   ],
   "source": [
    "degree=5\n",
    "tx=build_poly(tr_trainX,degree)\n",
    "tx_trtest=build_poly(tr_testX,degree)\n",
    "lambdas= np.logspace(-15, 0, 100)\n",
    "losses=[]\n",
    "losses_te=[]\n",
    "ws=[]\n",
    "for lambda_ in lambdas:\n",
    "    w,loss=ridge_regression(tr_trainY,tx,lambda_)\n",
    "    losses.append(loss)\n",
    "    losses_te.append(compute_mse(tr_testY,tx_trtest,w))\n",
    "    ws.append(w)\n",
    "plt.semilogx(lambdas,losses)\n",
    "plt.semilogx(lambdas,losses_te)\n",
    "# pick lambda where losses_te is minimum\n",
    "lambda_=lambdas[np.argmin(losses_te)]\n",
    "w=ws[np.argmin(losses_te)]"
   ]
  },
  {
   "cell_type": "code",
   "execution_count": 157,
   "metadata": {},
   "outputs": [
    {
     "name": "stdout",
     "output_type": "stream",
     "text": [
      "0.301693697574\n"
     ]
    }
   ],
   "source": [
    "degree=5\n",
    "tx=build_poly(train[1],degree)\n",
    "w,loss=ridge_regression(train[0],tx,lambda_)\n",
    "print(loss)"
   ]
  },
  {
   "cell_type": "code",
   "execution_count": 165,
   "metadata": {},
   "outputs": [],
   "source": [
    "smallTest=np.concatenate([test[1][:,:4],test[1][:,5:6],test[1][:,8:11],test[1][:,13:14],test[1][:,16:18],test[1][:,21:23]],axis=1)\n",
    "tx_test=build_poly(smallTest,degree)\n",
    "ypred=predict_labels(w,tx_test)\n",
    "create_csv_submission(test[2],ypred,\"submission.csv\")"
   ]
  }
 ],
 "metadata": {
  "kernelspec": {
   "display_name": "Python 3",
   "language": "python",
   "name": "python3"
  },
  "language_info": {
   "codemirror_mode": {
    "name": "ipython",
    "version": 3
   },
   "file_extension": ".py",
   "mimetype": "text/x-python",
   "name": "python",
   "nbconvert_exporter": "python",
   "pygments_lexer": "ipython3",
   "version": "3.5.2"
  }
 },
 "nbformat": 4,
 "nbformat_minor": 2
}
