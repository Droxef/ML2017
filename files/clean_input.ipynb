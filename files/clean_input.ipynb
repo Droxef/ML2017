{
 "cells": [
  {
   "cell_type": "code",
   "execution_count": 1,
   "metadata": {
    "collapsed": true
   },
   "outputs": [],
   "source": [
    "import csv\n",
    "import numpy as np\n",
    "\n",
    "bad_val = np.float64(-9.99000000e+02)\n",
    "zero = np.float64(0)\n",
    "\n",
    "#change this if necessary\n",
    "train_path = 'train.csv'\n",
    "test_path = 'test.csv'\n",
    "\n",
    "train_cleaned_path = 'train_cleaned.csv'\n",
    "test_cleaned_path = 'test_cleaned.csv'"
   ]
  },
  {
   "cell_type": "code",
   "execution_count": 2,
   "metadata": {},
   "outputs": [],
   "source": [
    "#replace before with provided value in array\n",
    "def replace(array, before, value):\n",
    "    \n",
    "    f = lambda x,y: y if x==before else x\n",
    "    if (np.isnan(before)):\n",
    "        f = lambda x,y: y if np.isnan(x) else x\n",
    "    vf = np.vectorize(f)\n",
    "    #return np.fromiter((f(x, value) for x in array), array.dtype, count=len(array))\n",
    "    return vf(array, value)\n",
    "\n",
    "def mapp(array, f):\n",
    "    return np.fromiter((f(x, value) for x in array), array.dtype, count=len(array))\n",
    "        \n",
    "def avg(array):\n",
    "    return np.nanmean(array)\n",
    "\n",
    "def create_f64_arrays(csv, size):\n",
    "    header = next(csv)\n",
    "    \n",
    "    index = np.empty(size, dtype = np.int64)\n",
    "    letters = np.empty(size, dtype = np.string_)\n",
    "    ret = np.empty([size, len(header)-2], dtype = np.float64)\n",
    "\n",
    "    \n",
    "    idx = 0\n",
    "    for x in csv:\n",
    "        index[idx] = x[0]\n",
    "        letters[idx] = x[1]\n",
    "        \n",
    "        ret[idx] = np.float64(x[2:])\n",
    "        idx = idx + 1\n",
    "    \n",
    "    #print(ret)\n",
    "    return (header, index, letters, ret)\n",
    "    \n",
    "    \n",
    "def to_f64_try(input):\n",
    "    try:\n",
    "        ret =np.float64(input)\n",
    "\n",
    "        return ret\n",
    "    except ValueError:\n",
    "        return input\n",
    "\n",
    "    "
   ]
  },
  {
   "cell_type": "code",
   "execution_count": 3,
   "metadata": {},
   "outputs": [],
   "source": [
    "test = csv.reader(open(test_path, 'r'), delimiter=',')\n",
    "\n",
    "train = csv.reader(open(train_path, 'r'), delimiter=',')"
   ]
  },
  {
   "cell_type": "code",
   "execution_count": 4,
   "metadata": {},
   "outputs": [],
   "source": [
    "(test_header, test_index, test_letters, test_data) = create_f64_arrays(test, 568239-1)\n",
    "(train_header, train_index, train_letters, train_data) = create_f64_arrays(train, 250001-1)"
   ]
  },
  {
   "cell_type": "code",
   "execution_count": 5,
   "metadata": {},
   "outputs": [
    {
     "name": "stdout",
     "output_type": "stream",
     "text": [
      "[-999.     106.398  117.794 ...,  108.497   96.711   92.373]\n"
     ]
    }
   ],
   "source": [
    "print(test_data[0:,0])"
   ]
  },
  {
   "cell_type": "code",
   "execution_count": 6,
   "metadata": {},
   "outputs": [],
   "source": [
    "test_data_nan = replace(test_data, bad_val, np.nan)\n",
    "train_data_nan = replace(train_data, bad_val, np.nan)"
   ]
  },
  {
   "cell_type": "code",
   "execution_count": 7,
   "metadata": {},
   "outputs": [
    {
     "name": "stdout",
     "output_type": "stream",
     "text": [
      "[ 121.87172934  106.398       117.794      ...,  108.497        96.711\n",
      "   92.373     ]\n",
      "[ 79.589  67.49   56.226 ...,   9.837  20.006  80.109]\n",
      "[ 23.916  87.949  96.358 ...,  65.149  66.942  77.619]\n",
      "[  3.036  49.994   4.137 ...,  18.006  29.761   3.984]\n",
      "[ 2.40501628  2.40501628  2.40501628 ...,  2.40501628  2.40501628\n",
      "  2.40501628]\n",
      "[ 372.35542865  372.35542865  372.35542865 ...,  372.35542865  372.35542865\n",
      "  372.35542865]\n",
      "[-0.83183271 -0.83183271 -0.83183271 ..., -0.83183271 -0.83183271\n",
      " -0.83183271]\n",
      "[ 0.903  2.048  2.755 ...,  2.742  2.479  2.486]\n",
      "[  3.036   2.679   4.137 ...,  18.006   2.739   3.984]\n",
      "[  56.018  132.865   97.6   ...,   68.097  101.676   77.348]\n",
      "[ 1.536  1.777  1.096 ...,  0.642  0.936  1.683]\n",
      "[-1.404 -1.204 -1.408 ..., -0.836  1.41  -1.346]\n",
      "[ 0.4585633  0.4585633  0.4585633 ...,  0.4585633  0.4585633  0.4585633]\n",
      "[ 22.088  30.716  46.564 ...,  41.478  36.575  28.83 ]\n",
      "[-0.54  -1.784 -0.298 ...,  1.057 -1.249  1.8  ]\n",
      "[-0.609  3.054  3.079 ...,  1.025 -1.54  -1.138]\n",
      "[ 33.93   54.574  51.036 ...,  26.619  34.238  48.518]\n",
      "[-0.504 -0.169 -0.548 ...,  1.087 -1.216  0.846]\n",
      "[-1.511  1.795  0.336 ..., -1.717  0.939  2.85 ]\n",
      "[ 48.509  21.093  19.461 ...,  30.463   6.647  35.463]\n",
      "[ 2.022 -1.138 -1.868 ..., -2.064 -0.511  0.234]\n",
      "[  98.556  176.251  111.505 ...,  188.648  212.565   97.379]\n",
      "[ 0.  1.  0. ...,  0.  1.  0.]\n",
      "[ 84.94047913  47.575       84.94047913 ...,  84.94047913  30.863\n",
      "  84.94047913]\n",
      "[ -3.55455132e-04  -5.53000000e-01  -3.55455132e-04 ...,  -3.55455132e-04\n",
      "   1.46000000e+00  -3.55455132e-04]\n",
      "[-0.02170315 -0.849      -0.02170315 ..., -0.02170315  2.637      -0.02170315]\n",
      "[ 57.86764431  57.86764431  57.86764431 ...,  57.86764431  57.86764431\n",
      "  57.86764431]\n",
      "[-0.00439938 -0.00439938 -0.00439938 ..., -0.00439938 -0.00439938\n",
      " -0.00439938]\n",
      "[-0.01436665 -0.01436665 -0.01436665 ..., -0.01436665 -0.01436665\n",
      " -0.01436665]\n",
      "[  0.     47.575   0.    ...,   0.     30.863   0.   ]\n"
     ]
    }
   ],
   "source": [
    "#replace -999 with column average\n",
    "for x in range(0, test_data_nan.shape[1]):\n",
    "    aver = avg(test_data_nan[:, x])\n",
    "    test_data_nan[:, x] = replace(test_data_nan[:, x], np.nan, aver)\n",
    "    print(test_data_nan[:, x])\n",
    "    \n",
    "for x in range(0, train_data_nan.shape[1]):\n",
    "    aver = avg(train_data_nan[:, x])\n",
    "    train_data_nan[:, x] = replace(train_data_nan[:, x], np.nan, aver)"
   ]
  },
  {
   "cell_type": "code",
   "execution_count": 8,
   "metadata": {},
   "outputs": [],
   "source": [
    "def write_new_csv(name, header, index, letters, data):\n",
    "    data_str = np.array(data, dtype='<U16')\n",
    "    index_str = np.array(index, dtype='<U16')\n",
    "    left = np.c_[index_str, letters]\n",
    "    payload = np.c_[left, data_str]\n",
    "\n",
    "    \n",
    "    fp = open(name, 'w')\n",
    "    wr = csv.writer(fp, delimiter=',',\n",
    "                            quotechar='|', quoting=csv.QUOTE_MINIMAL)\n",
    "    \n",
    "    wr.writerow(header)\n",
    "    wr.writerows(payload)\n",
    "    \n",
    "    \n",
    "    \n",
    "write_new_csv(test_cleaned_path, test_header, test_index, test_letters, test_data_nan)\n",
    "write_new_csv(train_cleaned_path, train_header, train_index, train_letters, train_data_nan)"
   ]
  },
  {
   "cell_type": "code",
   "execution_count": null,
   "metadata": {
    "collapsed": true
   },
   "outputs": [],
   "source": []
  },
  {
   "cell_type": "code",
   "execution_count": null,
   "metadata": {
    "collapsed": true
   },
   "outputs": [],
   "source": []
  },
  {
   "cell_type": "code",
   "execution_count": null,
   "metadata": {
    "collapsed": true
   },
   "outputs": [],
   "source": []
  },
  {
   "cell_type": "code",
   "execution_count": 9,
   "metadata": {},
   "outputs": [],
   "source": [
    "#normalise, not working yet\n",
    "def normalise(v):\n",
    "    aver=avg(v)\n",
    "    if norm==0:\n",
    "        norm=np.finfo(v.dtype).eps\n",
    "    return v/norm\n",
    "\n"
   ]
  },
  {
   "cell_type": "code",
   "execution_count": null,
   "metadata": {
    "collapsed": true
   },
   "outputs": [],
   "source": []
  }
 ],
 "metadata": {
  "kernelspec": {
   "display_name": "Python 3",
   "language": "python",
   "name": "python3"
  },
  "language_info": {
   "codemirror_mode": {
    "name": "ipython",
    "version": 3
   },
   "file_extension": ".py",
   "mimetype": "text/x-python",
   "name": "python",
   "nbconvert_exporter": "python",
   "pygments_lexer": "ipython3",
   "version": "3.6.1"
  }
 },
 "nbformat": 4,
 "nbformat_minor": 2
}
