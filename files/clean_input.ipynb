{
 "cells": [
  {
   "cell_type": "code",
   "execution_count": 160,
   "metadata": {
    "collapsed": true
   },
   "outputs": [],
   "source": [
    "import csv\n",
    "import numpy as np\n",
    "\n",
    "bad_val = np.float64(-9.99000000e+02)"
   ]
  },
  {
   "cell_type": "code",
   "execution_count": 142,
   "metadata": {},
   "outputs": [
    {
     "name": "stdout",
     "output_type": "stream",
     "text": [
      "0\n"
     ]
    }
   ],
   "source": [
    "\n",
    "test = csv.reader(open('test.csv', 'r+'), delimiter=',')\n",
    "\n",
    "train = csv.reader(open('train.csv', 'r+'), delimiter=',')\n",
    "\n",
    "print(train.line_num)"
   ]
  },
  {
   "cell_type": "code",
   "execution_count": 143,
   "metadata": {},
   "outputs": [],
   "source": [
    "(test_header, test_index, test_letters, test_data) = create_f64_arrays(test, 568239-1)\n"
   ]
  },
  {
   "cell_type": "code",
   "execution_count": 159,
   "metadata": {},
   "outputs": [
    {
     "name": "stdout",
     "output_type": "stream",
     "text": [
      "[ -9.99000000e+02   7.95890000e+01   2.39160000e+01   3.03600000e+00\n",
      "  -9.99000000e+02  -9.99000000e+02  -9.99000000e+02   9.03000000e-01\n",
      "   3.03600000e+00   5.60180000e+01   1.53600000e+00  -1.40400000e+00\n",
      "  -9.99000000e+02   2.20880000e+01  -5.40000000e-01  -6.09000000e-01\n",
      "   3.39300000e+01  -5.04000000e-01  -1.51100000e+00   4.85090000e+01\n",
      "   2.02200000e+00   9.85560000e+01   0.00000000e+00  -9.99000000e+02\n",
      "  -9.99000000e+02  -9.99000000e+02  -9.99000000e+02  -9.99000000e+02\n",
      "  -9.99000000e+02   0.00000000e+00]\n"
     ]
    }
   ],
   "source": [
    "print(test_data[0,0:])"
   ]
  },
  {
   "cell_type": "code",
   "execution_count": null,
   "metadata": {},
   "outputs": [],
   "source": [
    "print(test_indices)"
   ]
  },
  {
   "cell_type": "code",
   "execution_count": 22,
   "metadata": {},
   "outputs": [
    {
     "name": "stdout",
     "output_type": "stream",
     "text": [
      "32\n"
     ]
    },
    {
     "data": {
      "text/plain": [
       "['Id',\n",
       " 'Prediction',\n",
       " 'DER_mass_MMC',\n",
       " 'DER_mass_transverse_met_lep',\n",
       " 'DER_mass_vis',\n",
       " 'DER_pt_h',\n",
       " 'DER_deltaeta_jet_jet',\n",
       " 'DER_mass_jet_jet',\n",
       " 'DER_prodeta_jet_jet',\n",
       " 'DER_deltar_tau_lep',\n",
       " 'DER_pt_tot',\n",
       " 'DER_sum_pt',\n",
       " 'DER_pt_ratio_lep_tau',\n",
       " 'DER_met_phi_centrality',\n",
       " 'DER_lep_eta_centrality',\n",
       " 'PRI_tau_pt',\n",
       " 'PRI_tau_eta',\n",
       " 'PRI_tau_phi',\n",
       " 'PRI_lep_pt',\n",
       " 'PRI_lep_eta',\n",
       " 'PRI_lep_phi',\n",
       " 'PRI_met',\n",
       " 'PRI_met_phi',\n",
       " 'PRI_met_sumet',\n",
       " 'PRI_jet_num',\n",
       " 'PRI_jet_leading_pt',\n",
       " 'PRI_jet_leading_eta',\n",
       " 'PRI_jet_leading_phi',\n",
       " 'PRI_jet_subleading_pt',\n",
       " 'PRI_jet_subleading_eta',\n",
       " 'PRI_jet_subleading_phi',\n",
       " 'PRI_jet_all_pt']"
      ]
     },
     "execution_count": 22,
     "metadata": {},
     "output_type": "execute_result"
    }
   ],
   "source": [
    "##load files\n",
    "\n",
    "c1 = []\n",
    "c2 = []\n",
    "c3 = []\n",
    "\n",
    "\n",
    "    \n",
    "    #skip first line\n",
    "print(len(next(test)))\n",
    "next(train)\n",
    "\n",
    "#for row in test:\n",
    "    #print(row[0])\n",
    "#        c1.append(row[0])\n",
    "#        c2.append(row[1])\n",
    "#        c3.append(row[2])\n",
    "        \n",
    "        "
   ]
  },
  {
   "cell_type": "code",
   "execution_count": 31,
   "metadata": {},
   "outputs": [
    {
     "name": "stdout",
     "output_type": "stream",
     "text": [
      "[]\n"
     ]
    }
   ],
   "source": [
    "\n",
    "#print(np.average(np.float64(c2)))\n",
    "    \n",
    "        \n",
    "print(c2[:20])"
   ]
  },
  {
   "cell_type": "code",
   "execution_count": 140,
   "metadata": {},
   "outputs": [],
   "source": [
    "#clean -999 values\n",
    "#def clean_table(table):\n",
    "\n",
    "\n",
    "    \n",
    "    \n",
    "    \n",
    "def create_f64_arrays(csv, size):\n",
    "    header = next(csv)\n",
    "    \n",
    "    index = np.empty(size, dtype = np.int64)\n",
    "    letters = np.empty(size, dtype = np.string_)\n",
    "    ret = np.empty([size, len(header)-2], dtype = np.float64)\n",
    "\n",
    "    \n",
    "    idx = 0\n",
    "    for x in csv:\n",
    "        index[idx] = x[0]\n",
    "        letters[idx] = x[1]\n",
    "        \n",
    "        ret[idx] = np.float64(x[2:])\n",
    "        idx = idx + 1\n",
    "    \n",
    "    #print(ret)\n",
    "    return (header, index, letters, ret)\n",
    "    \n",
    "    \n",
    "def to_f64_try(input):\n",
    "    try:\n",
    "        ret =np.float64(input)\n",
    "\n",
    "        return ret\n",
    "    except ValueError:\n",
    "        return input\n",
    "\n",
    "    \n",
    "    \n",
    "    \n",
    "    \n"
   ]
  },
  {
   "cell_type": "code",
   "execution_count": null,
   "metadata": {
    "collapsed": true
   },
   "outputs": [],
   "source": []
  }
 ],
 "metadata": {
  "kernelspec": {
   "display_name": "Python 3",
   "language": "python",
   "name": "python3"
  },
  "language_info": {
   "codemirror_mode": {
    "name": "ipython",
    "version": 3
   },
   "file_extension": ".py",
   "mimetype": "text/x-python",
   "name": "python",
   "nbconvert_exporter": "python",
   "pygments_lexer": "ipython3",
   "version": "3.6.1"
  }
 },
 "nbformat": 4,
 "nbformat_minor": 2
}
