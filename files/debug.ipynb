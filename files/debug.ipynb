{
 "cells": [
  {
   "cell_type": "code",
   "execution_count": null,
   "metadata": {},
   "outputs": [],
   "source": [
    "# Useful starting lines\n",
    "%matplotlib inline\n",
    "import numpy as np\n",
    "import matplotlib.pyplot as plt\n",
    "%load_ext autoreload\n",
    "%autoreload 2"
   ]
  },
  {
   "cell_type": "code",
   "execution_count": null,
   "metadata": {},
   "outputs": [],
   "source": [
    "from proj1_helpers import *\n",
    "test=load_csv_data(\"../../dataset/test.csv\", sub_sample=False)\n",
    "train=load_csv_data(\"../../dataset/train.csv\", sub_sample=False)"
   ]
  },
  {
   "cell_type": "code",
   "execution_count": null,
   "metadata": {},
   "outputs": [],
   "source": [
    "initial_w=np.zeros((30,))\n",
    "max_iters=10\n",
    "gamma=1\n",
    "lambda_=1"
   ]
  },
  {
   "cell_type": "code",
   "execution_count": null,
   "metadata": {},
   "outputs": [],
   "source": [
    "train"
   ]
  },
  {
   "cell_type": "code",
   "execution_count": null,
   "metadata": {},
   "outputs": [],
   "source": [
    "from costs import *\n",
    "def compute_gradient(y, tx, w):\n",
    "    \"\"\"Compute the gradient.\"\"\"\n",
    "    e=y-np.dot(tx,w)\n",
    "    grad=-1/y.shape[0]*np.dot(np.transpose(tx),e)\n",
    "    return grad\n",
    "\n",
    "def least_squares_GD(y,tx,initial_w,max_iters,gamma):\n",
    "    w = initial_w\n",
    "    for n_iter in range(max_iters):\n",
    "        loss=compute_mse(y,tx,w)\n",
    "        grad=compute_gradient(y,tx,w)\n",
    "        w=w-gamma*grad\n",
    "    return w, loss"
   ]
  },
  {
   "cell_type": "code",
   "execution_count": null,
   "metadata": {},
   "outputs": [],
   "source": [
    "def least_squares_SGD(y,tx,initial_w,max_iters,gamma):\n",
    "    return w, loss"
   ]
  },
  {
   "cell_type": "code",
   "execution_count": null,
   "metadata": {},
   "outputs": [],
   "source": [
    "from costs import *\n",
    "def least_squares(y,tx):\n",
    "    if len(y)!=tx.shape[0]:\n",
    "        raise ValueError(\"y and tx must have the same length\")\n",
    "    w = np.linalg.solve(np.dot(tx.transpose(), tx), np.dot(tx.transpose(), y))\n",
    "    loss=compute_mse(y,tx,w)\n",
    "    return w, loss"
   ]
  },
  {
   "cell_type": "code",
   "execution_count": null,
   "metadata": {},
   "outputs": [],
   "source": [
    "def ridge_regression(y,tx,lambda_):\n",
    "    return w, loss"
   ]
  },
  {
   "cell_type": "code",
   "execution_count": null,
   "metadata": {},
   "outputs": [],
   "source": [
    "def logistic_regression(y,tx,initial_w,max_iters,gamma):\n",
    "    return w, loss"
   ]
  },
  {
   "cell_type": "code",
   "execution_count": null,
   "metadata": {},
   "outputs": [],
   "source": [
    "def reg_logistic_regression(y,tx,lambda_,initial_w,max_iters,gamma):\n",
    "    return w, loss"
   ]
  },
  {
   "cell_type": "code",
   "execution_count": null,
   "metadata": {},
   "outputs": [],
   "source": [
    "w,loss=least_squares_GD(train[0],train[1],initial_w,max_iters,gamma)\n",
    "print(loss)"
   ]
  },
  {
   "cell_type": "code",
   "execution_count": null,
   "metadata": {},
   "outputs": [],
   "source": [
    "w,loss=least_squares(train[0],train[1])\n",
    "print(loss)"
   ]
  },
  {
   "cell_type": "code",
   "execution_count": null,
   "metadata": {},
   "outputs": [],
   "source": [
    "ypred=predict_labels(w,test[1])\n",
    "create_csv_submission(test[2],ypred,\"submission.csv\")"
   ]
  }
 ],
 "metadata": {
  "kernelspec": {
   "display_name": "Python 3",
   "language": "python",
   "name": "python3"
  },
  "language_info": {
   "codemirror_mode": {
    "name": "ipython",
    "version": 3
   },
   "file_extension": ".py",
   "mimetype": "text/x-python",
   "name": "python",
   "nbconvert_exporter": "python",
   "pygments_lexer": "ipython3",
   "version": "3.5.2"
  }
 },
 "nbformat": 4,
 "nbformat_minor": 2
}
